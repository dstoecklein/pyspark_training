{
 "cells": [
  {
   "cell_type": "markdown",
   "metadata": {},
   "source": [
    "# Big Data"
   ]
  },
  {
   "cell_type": "markdown",
   "metadata": {},
   "source": [
    "Data is so large that\n",
    "- Try using a SQL database to move storage to a harddrive\n",
    "- Use distributed System, that distributes the data to multiple machines\n",
    "- It is easier to scale to many lower CPU machine, than to try to scale up to a single high CPU machine"
   ]
  },
  {
   "cell_type": "markdown",
   "metadata": {},
   "source": [
    "# Local vs. Distributed System"
   ]
  },
  {
   "cell_type": "markdown",
   "metadata": {},
   "source": [
    "- local uses computation resource of a single machine\n",
    "- distributed process has access a number of machine connected via a network\n",
    "  - If one machine fails, the network persist (**fault tolerance**)"
   ]
  },
  {
   "cell_type": "markdown",
   "metadata": {},
   "source": [
    "# Hadoop Ecosystem"
   ]
  },
  {
   "cell_type": "markdown",
   "metadata": {},
   "source": [
    "- Hadoop is a way to distribute very large files across multiple machines\n",
    "- It uses the Hadoop distributed file system (HDFS)\n",
    "- HDFS also duplicates blocks of data for fault tolerance"
   ]
  },
  {
   "cell_type": "markdown",
   "metadata": {},
   "source": [
    "![](hadoop.png)"
   ]
  },
  {
   "cell_type": "markdown",
   "metadata": {},
   "source": [
    "# Hadoop MapReduce\n",
    "- allows computation across the distributed dataset"
   ]
  },
  {
   "cell_type": "markdown",
   "metadata": {},
   "source": [
    "# Spark\n",
    "- technology to quickly and easily handle big data\n",
    "- Kinda like a flexible alternative to MapReduce (MapReduce vs. Spark)"
   ]
  },
  {
   "cell_type": "markdown",
   "metadata": {},
   "source": [
    "# Spark vs. MapReduce\n",
    "- MR requires files to be stored in HDFS\n",
    "- Spark also can perform operations up to 100x faster than MapReduce"
   ]
  },
  {
   "cell_type": "markdown",
   "metadata": {},
   "source": [
    "- MR writes most data to disk after each MR operation\n",
    "- Spark keeps most of the data in memory after each transformation"
   ]
  },
  {
   "cell_type": "markdown",
   "metadata": {},
   "source": [
    "# Spark RDDs\n",
    "- Resilient Distributed Dataset\n",
    "  - Fault Tolerant\n",
    "  - Parallel\n",
    "  - Can use many data sources\n",
    "  - distributed collection of data\n",
    "- Spark operations:\n",
    "  - Transformations (Receipe to follow)\n",
    "  - Actions (Perform what the recipe says to do and returns something)\n",
    "  - When coding: A lot of times will write a method call, but wont see anything happening until the action is called.\n",
    "  - This makes sense because with a large dataset, you dont want to calculate all the transformations until you are sure to perform them"
   ]
  },
  {
   "cell_type": "markdown",
   "metadata": {},
   "source": []
  }
 ],
 "metadata": {
  "interpreter": {
   "hash": "d187e30c2dd112197116c4f5263029e046d02fb42f12fabba0cb2d61e383521a"
  },
  "kernelspec": {
   "display_name": "Python 3.9.7 ('data_science')",
   "language": "python",
   "name": "python3"
  },
  "language_info": {
   "name": "python",
   "version": "3.9.7"
  },
  "orig_nbformat": 4
 },
 "nbformat": 4,
 "nbformat_minor": 2
}
